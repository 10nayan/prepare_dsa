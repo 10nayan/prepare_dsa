{
 "cells": [
  {
   "cell_type": "markdown",
   "metadata": {},
   "source": [
    "Selection sort is a sorting algorithm that selects the smallest element from an unsorted list in each iteration and places that element at the beginning of the unsorted list."
   ]
  },
  {
   "cell_type": "markdown",
   "metadata": {},
   "source": [
    "Working of Selection Sort\n",
    "1. Set the first element as minimum\n",
    "2. Compare minimum with the second element. If the second element is smaller than minimum, assign the second element as minimum.Compare minimum with the third element. Again, if the third element is smaller, then assign minimum to the third element otherwise do nothing. The process goes on until the last element.\n",
    "3. After each iteration, minimum is placed in the front of the unsorted list\n",
    "4. For each iteration, indexing starts from the first unsorted element. Step 1 to 3 are repeated until all the elements are placed at their correct positions."
   ]
  },
  {
   "cell_type": "code",
   "execution_count": 1,
   "metadata": {},
   "outputs": [],
   "source": [
    "# Selection Sort Algorithm\n",
    "# selectionSort(array, size)\n",
    "# repeat (size - 1) times\n",
    "# set the first unsorted element as the minimum\n",
    "# for each of the unsorted elements\n",
    "#     if element < currentMinimum\n",
    "#     set element as new minimum\n",
    "# swap minimum with first unsorted position\n",
    "# end selectionSort"
   ]
  },
  {
   "cell_type": "code",
   "execution_count": 7,
   "metadata": {},
   "outputs": [],
   "source": [
    "def selection_sort(arr):\n",
    "    for i in range(len(arr)):\n",
    "        min_idx = i\n",
    "        for j in range(i+1, len(arr)):\n",
    "            if arr[j] < arr[min_idx]:\n",
    "                min_idx = j\n",
    "        arr[min_idx], arr[i] = arr[i], arr[min_idx]\n",
    "    return arr"
   ]
  },
  {
   "cell_type": "code",
   "execution_count": 9,
   "metadata": {},
   "outputs": [
    {
     "data": {
      "text/plain": [
       "[1, 2, 3, 4, 5, 6, 7, 8, 9]"
      ]
     },
     "execution_count": 9,
     "metadata": {},
     "output_type": "execute_result"
    }
   ],
   "source": [
    "selection_sort([9,8,7,6,5,4,3,2,1])"
   ]
  },
  {
   "cell_type": "markdown",
   "metadata": {},
   "source": [
    "Time Complexities:\n",
    "\n",
    "1. Worst Case Complexity: O(n2)\n",
    "If we want to sort in ascending order and the array is in descending order then, the worst case occurs.\n",
    "2. Best Case Complexity: O(n2)\n",
    "It occurs when the array is already sorted\n",
    "3. Average Case Complexity: O(n2)\n",
    "It occurs when the elements of the array are in jumbled order (neither ascending nor descending)."
   ]
  },
  {
   "cell_type": "markdown",
   "metadata": {},
   "source": [
    "Space Complexity:\n",
    "\n",
    "Space complexity is O(1) because an extra variable temp is used."
   ]
  },
  {
   "cell_type": "markdown",
   "metadata": {},
   "source": [
    "Selection Sort Applications\n",
    "The selection sort is used when\n",
    "\n",
    "a small list is to be sorted\n",
    "cost of swapping does not matter\n",
    "checking of all the elements is compulsory\n",
    "cost of writing to a memory matters like in flash memory (number of writes/swaps is O(n) as compared to O(n2) of bubble sort)"
   ]
  },
  {
   "cell_type": "code",
   "execution_count": 10,
   "metadata": {},
   "outputs": [],
   "source": [
    "# https://www.programiz.com/dsa/selection-sort"
   ]
  },
  {
   "cell_type": "markdown",
   "metadata": {},
   "source": []
  }
 ],
 "metadata": {
  "kernelspec": {
   "display_name": "Python 3 (ipykernel)",
   "language": "python",
   "name": "python3"
  },
  "language_info": {
   "codemirror_mode": {
    "name": "ipython",
    "version": 3
   },
   "file_extension": ".py",
   "mimetype": "text/x-python",
   "name": "python",
   "nbconvert_exporter": "python",
   "pygments_lexer": "ipython3",
   "version": "3.8.10"
  }
 },
 "nbformat": 4,
 "nbformat_minor": 2
}
