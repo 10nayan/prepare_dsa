{
 "cells": [
  {
   "cell_type": "markdown",
   "metadata": {},
   "source": [
    "Bubble sort is a sorting algorithm that compares two adjacent elements and swaps them until they are in the intended order.\n",
    "\n",
    "Just like the movement of air bubbles in the water that rise up to the surface, each element of the array move to the end in each iteration. Therefore, it is called a bubble sort."
   ]
  },
  {
   "cell_type": "markdown",
   "metadata": {},
   "source": [
    "Working of Bubble Sort\n",
    "Suppose we are trying to sort the elements in ascending order.\n",
    "\n",
    "1. First Iteration (Compare and Swap)\n",
    "\n",
    "    i. Starting from the first index, compare the first and the second elements.\n",
    "\n",
    "    ii. If the first element is greater than the second element, they are swapped.\n",
    "\n",
    "    iii. Now, compare the second and the third elements. Swap them if they are not in order.\n",
    "\n",
    "    iv. The above process goes on until the last element\n",
    "\n",
    "2. Remaining Iteration\n",
    "\n",
    "    i. The same process goes on for the remaining iterations.\n",
    "\n",
    "    ii.After each iteration, the largest element among the unsorted elements is placed at the end.\n",
    "\n",
    "3. In each iteration, the comparison takes place up to the last unsorted element.\n",
    "\n",
    "4. The array is sorted when all the unsorted elements are placed at their correct positions.\n"
   ]
  },
  {
   "cell_type": "code",
   "execution_count": 2,
   "metadata": {},
   "outputs": [],
   "source": [
    "# Bubble Sort Algorithm\n",
    "# bubbleSort(array)\n",
    "#   for i <- 1 to indexOfLastUnsortedElement-1\n",
    "#     if leftElement > rightElement\n",
    "#       swap leftElement and rightElement\n",
    "# end bubbleSort"
   ]
  },
  {
   "cell_type": "code",
   "execution_count": 21,
   "metadata": {},
   "outputs": [],
   "source": [
    "def bubble_sort(arr):\n",
    "    for i in range(len (arr)):\n",
    "        for j in range(len(arr) - i - 1):\n",
    "            left_element = arr[j]\n",
    "            right_element = arr[j+1]\n",
    "            if (left_element > right_element):\n",
    "                temp = arr[j+1]\n",
    "                arr[j+1] = arr[j]\n",
    "                arr[j] = temp\n",
    "    return arr"
   ]
  },
  {
   "cell_type": "code",
   "execution_count": 22,
   "metadata": {},
   "outputs": [
    {
     "data": {
      "text/plain": [
       "[1, 2, 3, 4, 5, 6, 7, 8, 9]"
      ]
     },
     "execution_count": 22,
     "metadata": {},
     "output_type": "execute_result"
    }
   ],
   "source": [
    "bubble_sort([9,8,7,6,5,4,3,2,1])"
   ]
  },
  {
   "cell_type": "code",
   "execution_count": 31,
   "metadata": {},
   "outputs": [],
   "source": [
    "def optimized_bubble_sort(arr):\n",
    "    for i in range(len(arr)):\n",
    "        swapped = 0\n",
    "        for j in range(len(arr) - i - 1):\n",
    "            if arr[j] > arr[j+1]:\n",
    "                temp = arr[j+1]\n",
    "                arr[j+1] = arr[j]\n",
    "                arr[j] = temp\n",
    "                swapped = 1\n",
    "        if not swapped:\n",
    "            break\n",
    "    return arr"
   ]
  },
  {
   "cell_type": "code",
   "execution_count": 32,
   "metadata": {},
   "outputs": [
    {
     "data": {
      "text/plain": [
       "[1, 2, 3, 4, 5, 6, 7, 8, 9]"
      ]
     },
     "execution_count": 32,
     "metadata": {},
     "output_type": "execute_result"
    }
   ],
   "source": [
    "optimized_bubble_sort([9,8,7,6,5,4,3,2,1])"
   ]
  },
  {
   "cell_type": "code",
   "execution_count": 33,
   "metadata": {},
   "outputs": [
    {
     "data": {
      "text/plain": [
       "[1, 2, 3, 4, 5, 6, 7, 8, 9]"
      ]
     },
     "execution_count": 33,
     "metadata": {},
     "output_type": "execute_result"
    }
   ],
   "source": [
    "optimized_bubble_sort([1,2,3,4,5,6,7,8,9])"
   ]
  },
  {
   "cell_type": "markdown",
   "metadata": {},
   "source": [
    "1. Time Complexities\n",
    "Worst Case Complexity: O(n2)\n",
    "If we want to sort in ascending order and the array is in descending order then the worst case occurs.\n",
    "Best Case Complexity: O(n)\n",
    "If the array is already sorted, then there is no need for sorting.\n",
    "Average Case Complexity: O(n2)\n",
    "It occurs when the elements of the array are in jumbled order (neither ascending nor descending).\n",
    "2. Space Complexity\n",
    "Space complexity is O(1) because an extra variable is used for swapping.\n",
    "In the optimized bubble sort algorithm, two extra variables are used. Hence, the space complexity will be O(2)."
   ]
  },
  {
   "cell_type": "markdown",
   "metadata": {},
   "source": [
    "Bubble sort is used if\n",
    "\n",
    "complexity does not matter\n",
    "short and simple code is preferred"
   ]
  },
  {
   "cell_type": "code",
   "execution_count": 35,
   "metadata": {},
   "outputs": [],
   "source": [
    "#https://www.programiz.com/dsa/bubble-sort"
   ]
  },
  {
   "cell_type": "code",
   "execution_count": null,
   "metadata": {},
   "outputs": [],
   "source": []
  }
 ],
 "metadata": {
  "kernelspec": {
   "display_name": "Python 3 (ipykernel)",
   "language": "python",
   "name": "python3"
  },
  "language_info": {
   "codemirror_mode": {
    "name": "ipython",
    "version": 3
   },
   "file_extension": ".py",
   "mimetype": "text/x-python",
   "name": "python",
   "nbconvert_exporter": "python",
   "pygments_lexer": "ipython3",
   "version": "3.8.10"
  }
 },
 "nbformat": 4,
 "nbformat_minor": 2
}
