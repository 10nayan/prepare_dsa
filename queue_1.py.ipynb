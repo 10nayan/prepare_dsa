{
 "cells": [
  {
   "cell_type": "markdown",
   "id": "a780b7d7",
   "metadata": {},
   "source": [
    "A queue is a useful data structure in programming. It is similar to the ticket queue outside a cinema hall, where the first person entering the queue is the first person who gets the ticket.\n",
    "\n",
    "Queue follows the First In First Out (FIFO) rule - the item that goes in first is the item that comes out first.\n",
    "https://www.programiz.com/dsa/queue"
   ]
  },
  {
   "cell_type": "markdown",
   "id": "7aa8ffd1",
   "metadata": {},
   "source": [
    "In programming terms, putting items in the queue is called enqueue, and removing items from the queue is called dequeue."
   ]
  },
  {
   "cell_type": "markdown",
   "id": "4889bcfd",
   "metadata": {},
   "source": [
    "A queue is an object (an abstract data structure - ADT) that allows the following operations:\n",
    "\n",
    "    Enqueue: Add an element to the end of the queue\n",
    "    Dequeue: Remove an element from the front of the queue\n",
    "    IsEmpty: Check if the queue is empty\n",
    "    IsFull: Check if the queue is full\n",
    "    Peek: Get the value of the front of the queue without removing it"
   ]
  },
  {
   "cell_type": "markdown",
   "id": "3ac618ee",
   "metadata": {},
   "source": [
    "Working of Queue\n",
    "Queue operations work as follows:\n",
    "\n",
    "    two pointers FRONT and REAR\n",
    "    FRONT track the first element of the queue\n",
    "    REAR track the last element of the queue\n",
    "    initially, set value of FRONT and REAR to -1\n",
    "Enqueue Operation\n",
    "\n",
    "    check if the queue is full\n",
    "    for the first element, set the value of FRONT to 0\n",
    "    increase the REAR index by 1\n",
    "    add the new element in the position pointed to by REAR\n",
    "Dequeue Operation\n",
    "\n",
    "    check if the queue is empty\n",
    "    return the value pointed by FRONT\n",
    "    increase the FRONT index by 1\n",
    "    for the last element, reset the values of FRONT and REAR to -1"
   ]
  },
  {
   "cell_type": "code",
   "execution_count": 70,
   "id": "d2fe0a93",
   "metadata": {},
   "outputs": [],
   "source": [
    "class Queue:\n",
    "    def __init__(self):\n",
    "        self.queue = []\n",
    "    def enqueue(self, item):\n",
    "        self.queue.append(item)\n",
    "        return None\n",
    "    def check_empty(self):\n",
    "        return len(self.queue) == 0\n",
    "    def display(self):\n",
    "        for i in self.queue:\n",
    "            print(i, end = \" \")\n",
    "    def dequeue(self):\n",
    "        if self.check_empty():\n",
    "            return None\n",
    "        return self.queue.pop(0)\n",
    "\n",
    "    def size(self):\n",
    "        return len(self.queue)"
   ]
  },
  {
   "cell_type": "code",
   "execution_count": 71,
   "id": "5e65d02c",
   "metadata": {},
   "outputs": [],
   "source": [
    "q = Queue()\n",
    "q.enqueue(1)\n",
    "q.enqueue(2)\n",
    "q.enqueue(3)\n",
    "q.enqueue(4)\n",
    "q.enqueue(5)"
   ]
  },
  {
   "cell_type": "code",
   "execution_count": 72,
   "id": "77a9e9f7",
   "metadata": {},
   "outputs": [
    {
     "name": "stdout",
     "output_type": "stream",
     "text": [
      "1 2 3 4 5 "
     ]
    }
   ],
   "source": [
    "q.display()"
   ]
  },
  {
   "cell_type": "code",
   "execution_count": 73,
   "id": "f10dded3",
   "metadata": {},
   "outputs": [
    {
     "data": {
      "text/plain": [
       "1"
      ]
     },
     "execution_count": 73,
     "metadata": {},
     "output_type": "execute_result"
    }
   ],
   "source": [
    "q.dequeue()"
   ]
  },
  {
   "cell_type": "code",
   "execution_count": 74,
   "id": "5c66c5b8",
   "metadata": {},
   "outputs": [
    {
     "name": "stdout",
     "output_type": "stream",
     "text": [
      "2 3 4 5 "
     ]
    }
   ],
   "source": [
    "q.display()"
   ]
  },
  {
   "cell_type": "code",
   "execution_count": 75,
   "id": "9b391076",
   "metadata": {},
   "outputs": [
    {
     "data": {
      "text/plain": [
       "4"
      ]
     },
     "execution_count": 75,
     "metadata": {},
     "output_type": "execute_result"
    }
   ],
   "source": [
    "q.size()"
   ]
  },
  {
   "cell_type": "code",
   "execution_count": 76,
   "id": "438e3665",
   "metadata": {},
   "outputs": [
    {
     "data": {
      "text/plain": [
       "False"
      ]
     },
     "execution_count": 76,
     "metadata": {},
     "output_type": "execute_result"
    }
   ],
   "source": [
    "q.check_empty()"
   ]
  },
  {
   "cell_type": "code",
   "execution_count": null,
   "id": "63d9e9ae",
   "metadata": {},
   "outputs": [],
   "source": []
  }
 ],
 "metadata": {
  "kernelspec": {
   "display_name": "Python 3 (ipykernel)",
   "language": "python",
   "name": "python3"
  },
  "language_info": {
   "codemirror_mode": {
    "name": "ipython",
    "version": 3
   },
   "file_extension": ".py",
   "mimetype": "text/x-python",
   "name": "python",
   "nbconvert_exporter": "python",
   "pygments_lexer": "ipython3",
   "version": "3.8.10"
  }
 },
 "nbformat": 4,
 "nbformat_minor": 5
}
