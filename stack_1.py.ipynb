{
 "cells": [
  {
   "cell_type": "markdown",
   "id": "58bc42af",
   "metadata": {},
   "source": [
    "A stack is a linear data structure that follows the principle of Last In First Out (LIFO). This means the last element inserted inside the stack is removed first.\n",
    "https://www.programiz.com/dsa/stack"
   ]
  },
  {
   "cell_type": "markdown",
   "id": "9ca927b0",
   "metadata": {},
   "source": [
    "In programming terms, putting an item on top of the stack is called push and removing an item is called pop."
   ]
  },
  {
   "cell_type": "markdown",
   "id": "52b0ac96",
   "metadata": {},
   "source": [
    "There are some basic operations that allow us to perform different actions on a stack.\n",
    "\n",
    "    Push: Add an element to the top of a stack\n",
    "    Pop: Remove an element from the top of a stack\n",
    "    IsEmpty: Check if the stack is empty\n",
    "    IsFull: Check if the stack is full\n",
    "    Peek: Get the value of the top element without removing it"
   ]
  },
  {
   "cell_type": "markdown",
   "id": "4543d2fe",
   "metadata": {},
   "source": [
    "The operations work as follows:\n",
    "\n",
    "    A pointer called TOP is used to keep track of the top element in the stack.\n",
    "    When initializing the stack, we set its value to -1 so that we can check if the stack is empty by comparing TOP == -1.\n",
    "    On pushing an element, we increase the value of TOP and place the new element in the position pointed to by TOP.\n",
    "    On popping an element, we return the element pointed to by TOP and reduce its value.\n",
    "    Before pushing, we check if the stack is already full\n",
    "    Before popping, we check if the stack is already empty"
   ]
  },
  {
   "cell_type": "code",
   "execution_count": 44,
   "id": "796aa9a9",
   "metadata": {},
   "outputs": [],
   "source": [
    "class Stack:\n",
    "    def __init__(self):\n",
    "        self.stack = []\n",
    "    def print_stack(self):\n",
    "        for i in self.stack:\n",
    "            print(i, end = \" \")\n",
    "    def display(self):\n",
    "        print(self.stack)\n",
    "    def check_empty(self):\n",
    "        return len(self.stack) == 0\n",
    "    def push(self, item):\n",
    "        self.stack.append(item)\n",
    "        return None\n",
    "    def pop(self):\n",
    "        if self.check_empty():\n",
    "            return None\n",
    "        return self.stack.pop()\n",
    "    def create_stack(self, data):\n",
    "        for i in data:\n",
    "            self.push(i)\n",
    "        return self.stack\n",
    "    def remove_from_begining(self):\n",
    "        if self.check_empty():\n",
    "            return None\n",
    "        first_el = self.stack[0]\n",
    "        self.stack.remove(first_el)\n",
    "        return first_el\n"
   ]
  },
  {
   "cell_type": "code",
   "execution_count": 45,
   "id": "aa9ca96b",
   "metadata": {},
   "outputs": [],
   "source": [
    "new_stack = Stack()"
   ]
  },
  {
   "cell_type": "code",
   "execution_count": 46,
   "id": "85d087a9",
   "metadata": {},
   "outputs": [],
   "source": [
    "new_stack.push(1)\n",
    "new_stack.push(2)\n",
    "new_stack.push(3)"
   ]
  },
  {
   "cell_type": "code",
   "execution_count": 47,
   "id": "4287bdf6",
   "metadata": {},
   "outputs": [
    {
     "name": "stdout",
     "output_type": "stream",
     "text": [
      "1 2 3 "
     ]
    }
   ],
   "source": [
    "new_stack.print_stack()"
   ]
  },
  {
   "cell_type": "code",
   "execution_count": 48,
   "id": "365c44fc",
   "metadata": {},
   "outputs": [
    {
     "name": "stdout",
     "output_type": "stream",
     "text": [
      "[1, 2, 3]\n"
     ]
    }
   ],
   "source": [
    "new_stack.display()"
   ]
  },
  {
   "cell_type": "code",
   "execution_count": 31,
   "id": "7e3323d8",
   "metadata": {},
   "outputs": [],
   "source": [
    "new_stack.push(4)"
   ]
  },
  {
   "cell_type": "code",
   "execution_count": 32,
   "id": "f3a8af46",
   "metadata": {},
   "outputs": [
    {
     "name": "stdout",
     "output_type": "stream",
     "text": [
      "1 2 3 4 "
     ]
    }
   ],
   "source": [
    "new_stack.print_stack()"
   ]
  },
  {
   "cell_type": "code",
   "execution_count": 33,
   "id": "db8b1138",
   "metadata": {},
   "outputs": [
    {
     "data": {
      "text/plain": [
       "False"
      ]
     },
     "execution_count": 33,
     "metadata": {},
     "output_type": "execute_result"
    }
   ],
   "source": [
    "new_stack.check_empty()"
   ]
  },
  {
   "cell_type": "code",
   "execution_count": 34,
   "id": "847bc1e5",
   "metadata": {},
   "outputs": [
    {
     "data": {
      "text/plain": [
       "4"
      ]
     },
     "execution_count": 34,
     "metadata": {},
     "output_type": "execute_result"
    }
   ],
   "source": [
    "new_stack.pop()"
   ]
  },
  {
   "cell_type": "code",
   "execution_count": 35,
   "id": "da8850cc",
   "metadata": {},
   "outputs": [
    {
     "name": "stdout",
     "output_type": "stream",
     "text": [
      "1 2 3 "
     ]
    }
   ],
   "source": [
    "new_stack.print_stack()"
   ]
  },
  {
   "cell_type": "code",
   "execution_count": 36,
   "id": "e0c32f8d",
   "metadata": {},
   "outputs": [],
   "source": [
    "old_stack = Stack()"
   ]
  },
  {
   "cell_type": "code",
   "execution_count": 37,
   "id": "2accc2ef",
   "metadata": {},
   "outputs": [
    {
     "data": {
      "text/plain": [
       "[5, 6, 7]"
      ]
     },
     "execution_count": 37,
     "metadata": {},
     "output_type": "execute_result"
    }
   ],
   "source": [
    "old_stack.create_stack([5,6,7])"
   ]
  },
  {
   "cell_type": "code",
   "execution_count": 38,
   "id": "3e19bca5",
   "metadata": {},
   "outputs": [
    {
     "data": {
      "text/plain": [
       "7"
      ]
     },
     "execution_count": 38,
     "metadata": {},
     "output_type": "execute_result"
    }
   ],
   "source": [
    "old_stack.pop()"
   ]
  },
  {
   "cell_type": "code",
   "execution_count": 39,
   "id": "57d6f6a2",
   "metadata": {},
   "outputs": [
    {
     "name": "stdout",
     "output_type": "stream",
     "text": [
      "5 6 "
     ]
    }
   ],
   "source": [
    "old_stack.print_stack()"
   ]
  },
  {
   "cell_type": "code",
   "execution_count": 40,
   "id": "b226eb35",
   "metadata": {},
   "outputs": [
    {
     "data": {
      "text/plain": [
       "5"
      ]
     },
     "execution_count": 40,
     "metadata": {},
     "output_type": "execute_result"
    }
   ],
   "source": [
    "old_stack.remove_from_begining()"
   ]
  },
  {
   "cell_type": "code",
   "execution_count": 41,
   "id": "b2a64f4a",
   "metadata": {},
   "outputs": [
    {
     "name": "stdout",
     "output_type": "stream",
     "text": [
      "6 "
     ]
    }
   ],
   "source": [
    "old_stack.print_stack()"
   ]
  },
  {
   "cell_type": "code",
   "execution_count": null,
   "id": "0527789c",
   "metadata": {},
   "outputs": [],
   "source": []
  }
 ],
 "metadata": {
  "kernelspec": {
   "display_name": "Python 3 (ipykernel)",
   "language": "python",
   "name": "python3"
  },
  "language_info": {
   "codemirror_mode": {
    "name": "ipython",
    "version": 3
   },
   "file_extension": ".py",
   "mimetype": "text/x-python",
   "name": "python",
   "nbconvert_exporter": "python",
   "pygments_lexer": "ipython3",
   "version": "3.8.10"
  }
 },
 "nbformat": 4,
 "nbformat_minor": 5
}
