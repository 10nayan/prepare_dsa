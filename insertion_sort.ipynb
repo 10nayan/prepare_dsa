{
 "cells": [
  {
   "cell_type": "markdown",
   "metadata": {},
   "source": [
    "Insertion sort is a sorting algorithm that places an unsorted element at its suitable place in each iteration.\n",
    "\n",
    "Insertion sort works similarly as we sort cards in our hand in a card game.\n",
    "\n",
    "We assume that the first card is already sorted then, we select an unsorted card. If the unsorted card is greater than the card in hand, it is placed on the right otherwise, to the left. In the same way, other unsorted cards are taken and put in their right place."
   ]
  },
  {
   "cell_type": "markdown",
   "metadata": {},
   "source": [
    "Working of Insertion Sort\n",
    "1. The first element in the array is assumed to be sorted. Take the second element and store it separately in key. Compare key with the first element. If the first element is greater than key, then key is placed in front of the first element.\n",
    "\n",
    "2. Now, the first two elements are sorted.\n",
    "\n",
    "Take the third element and compare it with the elements on the left of it. Placed it just behind the element smaller than it. If there is no element smaller than it, then place it at the beginning of the array.\n",
    "\n",
    "3. Similarly, place every unsorted element at its correct position\n"
   ]
  },
  {
   "cell_type": "markdown",
   "metadata": {},
   "source": []
  },
  {
   "cell_type": "code",
   "execution_count": 1,
   "metadata": {},
   "outputs": [],
   "source": [
    "# Insertion Sort Algorithm\n",
    "\n",
    "# insertionSort(array)\n",
    "#   mark first element as sorted\n",
    "#   for each unsorted element X\n",
    "#     'extract' the element X\n",
    "#     for j <- lastSortedIndex down to 0\n",
    "#       if current element j > X\n",
    "#         move sorted element to the right by 1\n",
    "#     break loop and insert X here\n",
    "# end insertionSort\n"
   ]
  },
  {
   "cell_type": "code",
   "execution_count": 4,
   "metadata": {},
   "outputs": [],
   "source": [
    "def insertion_sort(arr):\n",
    "    for i in range(1, len(arr)):\n",
    "        key = arr[i]\n",
    "        j = i - 1\n",
    "        while j >= 0 and key < arr[j]:\n",
    "            arr[j+1] = arr[j]\n",
    "            j = j - 1\n",
    "        arr[j+1] = key\n",
    "    return arr"
   ]
  },
  {
   "cell_type": "code",
   "execution_count": 5,
   "metadata": {},
   "outputs": [
    {
     "data": {
      "text/plain": [
       "[1, 2, 3, 4, 5, 6, 7, 8, 9]"
      ]
     },
     "execution_count": 5,
     "metadata": {},
     "output_type": "execute_result"
    }
   ],
   "source": [
    "insertion_sort([9,8,7,6,5,4,3,2,1])"
   ]
  },
  {
   "cell_type": "markdown",
   "metadata": {},
   "source": [
    "Time Complexities\n",
    "\n",
    "1. Worst Case Complexity: O(n2)\n",
    "Suppose, an array is in ascending order, and you want to sort it in descending order. In this case, worst case complexity occurs.\n",
    "\n",
    "Each element has to be compared with each of the other elements so, for every nth element, (n-1) number of comparisons are made.\n",
    "\n",
    "Thus, the total number of comparisons = n*(n-1) ~ n2\n",
    "\n",
    "2. Best Case Complexity: O(n)\n",
    "When the array is already sorted, the outer loop runs for n number of times whereas the inner loop does not run at all. So, there are only n number of comparisons. Thus, complexity is linear.\n",
    "\n",
    "3. Average Case Complexity: O(n2)\n",
    "\n",
    "It occurs when the elements of an array are in jumbled order (neither ascending nor descending).\n",
    "Space Complexity\n",
    "\n",
    "Space complexity is O(1) because an extra variable key is used."
   ]
  },
  {
   "cell_type": "markdown",
   "metadata": {},
   "source": [
    "Insertion Sort Applications\n",
    "The insertion sort is used when:\n",
    "\n",
    "the array is has a small number of elements\n",
    "there are only a few elements left to be sorted\n"
   ]
  },
  {
   "cell_type": "code",
   "execution_count": 6,
   "metadata": {},
   "outputs": [],
   "source": [
    "# https://www.programiz.com/dsa/insertion-sort"
   ]
  },
  {
   "cell_type": "code",
   "execution_count": null,
   "metadata": {},
   "outputs": [],
   "source": []
  }
 ],
 "metadata": {
  "kernelspec": {
   "display_name": "Python 3 (ipykernel)",
   "language": "python",
   "name": "python3"
  },
  "language_info": {
   "codemirror_mode": {
    "name": "ipython",
    "version": 3
   },
   "file_extension": ".py",
   "mimetype": "text/x-python",
   "name": "python",
   "nbconvert_exporter": "python",
   "pygments_lexer": "ipython3",
   "version": "3.8.10"
  }
 },
 "nbformat": 4,
 "nbformat_minor": 2
}
