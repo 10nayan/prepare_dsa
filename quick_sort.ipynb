{
 "cells": [
  {
   "cell_type": "markdown",
   "metadata": {},
   "source": [
    "Quicksort is a sorting algorithm based on the divide and conquer approach where\n",
    "\n",
    "1. An array is divided into subarrays by selecting a pivot element (element selected from the array).\n",
    "\n",
    "While dividing the array, the pivot element should be positioned in such a way that elements less than pivot are kept on the left side and elements greater than pivot are on the right side of the pivot.\n",
    "\n",
    "2. The left and right subarrays are also divided using the same approach. This process continues until each subarray contains a single element.\n",
    "\n",
    "3. At this point, elements are already sorted. Finally, elements are combined to form a sorted array."
   ]
  },
  {
   "cell_type": "markdown",
   "metadata": {},
   "source": [
    "Working of Quicksort Algorithm\n",
    "1. Select the Pivot Element\n",
    "\n",
    "There are different variations of quicksort where the pivot element is selected from different positions. Here, we will be selecting the rightmost element of the array as the pivot element.\n",
    "\n",
    "2. Rearrange the Array\n",
    "\n",
    "Now the elements of the array are rearranged so that elements that are smaller than the pivot are put on the left and the elements greater than the pivot are put on the right.\n",
    "\n",
    "    i. A pointer is fixed at the pivot element. The pivot element is compared with the elements beginning from the first index\n",
    "\n",
    "    ii. If the element is greater than the pivot element, a second pointer is set for that element.\n",
    "\n",
    "    iii. Now, pivot is compared with other elements. If an element smaller than the pivot element is reached, the smaller element is swapped with the greater element found earlier.\n",
    "\n",
    "    iv. Again, the process is repeated to set the next greater element as the second pointer. And, swap it with another smaller element.\n",
    "\n",
    "    v. The process goes on until the second last element is reached.\n",
    "\n",
    "    vi. Finally, the pivot element is swapped with the second pointer.\n",
    "\n",
    "3. Pivot elements are again chosen for the left and the right sub-parts separately. And, step 2 is repeated.\n",
    "\n",
    "\n"
   ]
  },
  {
   "cell_type": "code",
   "execution_count": 2,
   "metadata": {},
   "outputs": [],
   "source": [
    "# Quick Sort Algorithm\n",
    "\n",
    "# quickSort(array, leftmostIndex, rightmostIndex)\n",
    "#   if (leftmostIndex < rightmostIndex)\n",
    "#     pivotIndex <- partition(array,leftmostIndex, rightmostIndex)\n",
    "#     quickSort(array, leftmostIndex, pivotIndex - 1)\n",
    "#     quickSort(array, pivotIndex, rightmostIndex)\n",
    "\n",
    "# partition(array, leftmostIndex, rightmostIndex)\n",
    "#   set rightmostIndex as pivotIndex\n",
    "#   storeIndex <- leftmostIndex - 1\n",
    "#   for i <- leftmostIndex + 1 to rightmostIndex\n",
    "#   if element[i] < pivotElement\n",
    "#     swap element[i] and element[storeIndex]\n",
    "#     storeIndex++\n",
    "#   swap pivotElement and element[storeIndex+1]\n",
    "# return storeIndex + 1"
   ]
  },
  {
   "cell_type": "code",
   "execution_count": 4,
   "metadata": {},
   "outputs": [
    {
     "name": "stdout",
     "output_type": "stream",
     "text": [
      "Unsorted Array\n",
      "[8, 7, 2, 1, 0, 9, 6]\n",
      "Sorted Array in Ascending Order:\n",
      "[0, 1, 2, 6, 7, 8, 9]\n"
     ]
    }
   ],
   "source": [
    "# Quick sort in Python\n",
    "\n",
    "# function to find the partition position\n",
    "def partition(array, low, high):\n",
    "\n",
    "  # choose the rightmost element as pivot\n",
    "  pivot = array[high]\n",
    "\n",
    "  # pointer for greater element\n",
    "  i = low - 1\n",
    "\n",
    "  # traverse through all elements\n",
    "  # compare each element with pivot\n",
    "  for j in range(low, high):\n",
    "    if array[j] <= pivot:\n",
    "      # if element smaller than pivot is found\n",
    "      # swap it with the greater element pointed by i\n",
    "      i = i + 1\n",
    "\n",
    "      # swapping element at i with element at j\n",
    "      (array[i], array[j]) = (array[j], array[i])\n",
    "\n",
    "  # swap the pivot element with the greater element specified by i\n",
    "  (array[i + 1], array[high]) = (array[high], array[i + 1])\n",
    "\n",
    "  # return the position from where partition is done\n",
    "  return i + 1\n",
    "\n",
    "# function to perform quicksort\n",
    "def quickSort(array, low, high):\n",
    "  if low < high:\n",
    "\n",
    "    # find pivot element such that\n",
    "    # element smaller than pivot are on the left\n",
    "    # element greater than pivot are on the right\n",
    "    pi = partition(array, low, high)\n",
    "\n",
    "    # recursive call on the left of pivot\n",
    "    quickSort(array, low, pi - 1)\n",
    "\n",
    "    # recursive call on the right of pivot\n",
    "    quickSort(array, pi + 1, high)\n",
    "\n",
    "\n",
    "data = [8, 7, 2, 1, 0, 9, 6]\n",
    "print(\"Unsorted Array\")\n",
    "print(data)\n",
    "\n",
    "size = len(data)\n",
    "\n",
    "quickSort(data, 0, size - 1)\n",
    "\n",
    "print('Sorted Array in Ascending Order:')\n",
    "print(data)"
   ]
  },
  {
   "cell_type": "markdown",
   "metadata": {},
   "source": [
    "Time Complexities\n",
    "Worst Case Complexity [Big-O]: O(n2)\n",
    "It occurs when the pivot element picked is either the greatest or the smallest element.\n",
    "\n",
    "This condition leads to the case in which the pivot element lies in an extreme end of the sorted array. One sub-array is always empty and another sub-array contains n - 1 elements. Thus, quicksort is called only on this sub-array.\n",
    "\n",
    "However, the quicksort algorithm has better performance for scattered pivots.\n",
    "Best Case Complexity [Big-omega]: O(n*log n)\n",
    "It occurs when the pivot element is always the middle element or near to the middle element.\n",
    "Average Case Complexity [Big-theta]: O(n*log n)\n",
    "It occurs when the above conditions do not occur.\n",
    "2. Space Complexity\n",
    "The space complexity for quicksort is O(log n)"
   ]
  },
  {
   "cell_type": "markdown",
   "metadata": {},
   "source": [
    "Quicksort Applications\n",
    "Quicksort algorithm is used when\n",
    "\n",
    "the programming language is good for recursion\n",
    "time complexity matters\n",
    "space complexity matters"
   ]
  },
  {
   "cell_type": "code",
   "execution_count": 6,
   "metadata": {},
   "outputs": [],
   "source": [
    "# https://www.programiz.com/dsa/quick-sort"
   ]
  },
  {
   "cell_type": "code",
   "execution_count": null,
   "metadata": {},
   "outputs": [],
   "source": []
  }
 ],
 "metadata": {
  "kernelspec": {
   "display_name": "Python 3 (ipykernel)",
   "language": "python",
   "name": "python3"
  },
  "language_info": {
   "codemirror_mode": {
    "name": "ipython",
    "version": 3
   },
   "file_extension": ".py",
   "mimetype": "text/x-python",
   "name": "python",
   "nbconvert_exporter": "python",
   "pygments_lexer": "ipython3",
   "version": "3.8.10"
  }
 },
 "nbformat": 4,
 "nbformat_minor": 2
}
