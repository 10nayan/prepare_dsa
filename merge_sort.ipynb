{
 "cells": [
  {
   "cell_type": "markdown",
   "metadata": {},
   "source": [
    "Merge Sort is one of the most popular sorting algorithms that is based on the principle of Divide and Conquer Algorithm."
   ]
  },
  {
   "cell_type": "markdown",
   "metadata": {},
   "source": [
    "Divide and Conquer Strategy\n",
    "Using the Divide and Conquer technique, we divide a problem into subproblems. When the solution to each subproblem is ready, we 'combine' the results from the subproblems to solve the main problem.\n",
    "\n",
    "Suppose we had to sort an array A. A subproblem would be to sort a sub-section of this array starting at index p and ending at index r, denoted as A[p..r].\n",
    "\n",
    "Divide\n",
    "\n",
    "If q is the half-way point between p and r, then we can split the subarray A[p..r] into two arrays A[p..q] and A[q+1, r].\n",
    "\n",
    "Conquer\n",
    "\n",
    "In the conquer step, we try to sort both the subarrays A[p..q] and A[q+1, r]. If we haven't yet reached the base case, we again divide both these subarrays and try to sort them.\n",
    "\n",
    "Combine\n",
    "\n",
    "When the conquer step reaches the base step and we get two sorted subarrays A[p..q] and A[q+1, r] for array A[p..r], we combine the results by creating a sorted array A[p..r] from two sorted subarrays A[p..q] and A[q+1, r]"
   ]
  },
  {
   "cell_type": "markdown",
   "metadata": {},
   "source": [
    "MergeSort Algorithm\n",
    "The MergeSort function repeatedly divides the array into two halves until we reach a stage where we try to perform MergeSort on a subarray of size 1 i.e. p == r.\n",
    "\n",
    "After that, the merge function comes into play and combines the sorted arrays into larger arrays until the whole array is merged.\n",
    "\n"
   ]
  },
  {
   "cell_type": "code",
   "execution_count": 1,
   "metadata": {},
   "outputs": [],
   "source": [
    "# MergeSort(A, p, r):\n",
    "#     if p > r \n",
    "#         return\n",
    "#     q = (p+r)/2\n",
    "#     mergeSort(A, p, q)\n",
    "#     mergeSort(A, q+1, r)\n",
    "#     merge(A, p, q, r)\n",
    "# To sort an entire array, we need to call MergeSort(A, 0, length(A)-1)"
   ]
  },
  {
   "cell_type": "markdown",
   "metadata": {},
   "source": [
    "The merge Step of Merge Sort\n",
    "Every recursive algorithm is dependent on a base case and the ability to combine the results from base cases. Merge sort is no different. The most important part of the merge sort algorithm is, you guessed it, merge step.\n",
    "\n",
    "The merge step is the solution to the simple problem of merging two sorted lists(arrays) to build one large sorted list(array).\n",
    "\n",
    "The algorithm maintains three pointers, one for each of the two arrays and one for maintaining the current index of the final sorted array."
   ]
  },
  {
   "cell_type": "code",
   "execution_count": 2,
   "metadata": {},
   "outputs": [],
   "source": [
    "# Have we reached the end of any of the arrays?\n",
    "#     No:\n",
    "#         Compare current elements of both arrays \n",
    "#         Copy smaller element into sorted array\n",
    "#         Move pointer of element containing smaller element\n",
    "#     Yes:\n",
    "#         Copy all remaining elements of non-empty array"
   ]
  },
  {
   "cell_type": "code",
   "execution_count": 16,
   "metadata": {},
   "outputs": [],
   "source": [
    "def merge_sort(arr):\n",
    "    if len(arr) > 1:\n",
    "        r = len(arr)//2\n",
    "        left_arr = arr[:r]\n",
    "        right_arr = arr[r:]\n",
    "\n",
    "        merge_sort(left_arr)\n",
    "        merge_sort(right_arr)\n",
    "        i = j = k = 0\n",
    "        \n",
    "        while i < len(left_arr) and j < len(right_arr):\n",
    "            if left_arr[i] < right_arr[j]:\n",
    "                arr[k] = left_arr[i]\n",
    "                i += 1\n",
    "            else:\n",
    "                arr[k] = right_arr[j]\n",
    "                j += 1\n",
    "\n",
    "            k += 1\n",
    "\n",
    "        while i < len(left_arr):\n",
    "            arr[k] = left_arr[i]\n",
    "            i += 1\n",
    "            k += 1\n",
    "        \n",
    "        while j < len(right_arr):\n",
    "            arr[k] = right_arr[j]\n",
    "            j += 1\n",
    "            k += 1\n",
    "\n",
    "def print_list(arr):\n",
    "    for i in range(len(arr)):\n",
    "        print(arr[i], end = \" \")\n",
    "    print()"
   ]
  },
  {
   "cell_type": "code",
   "execution_count": 17,
   "metadata": {},
   "outputs": [
    {
     "name": "stdout",
     "output_type": "stream",
     "text": [
      "1 2 3 4 5 6 7 8 9 \n"
     ]
    }
   ],
   "source": [
    "arr1 = [9,8,7,6,5,4,3,2,1]\n",
    "merge_sort(arr1)\n",
    "print_list(arr1)"
   ]
  },
  {
   "cell_type": "markdown",
   "metadata": {},
   "source": [
    "Time Complexity\n",
    "1. Best Case Complexity: O(n*log n)\n",
    "\n",
    "2. Worst Case Complexity: O(n*log n)\n",
    "\n",
    "3. Average Case Complexity: O(n*log n)\n",
    "\n",
    "Space Complexity\n",
    "The space complexity of merge sort is O(n)."
   ]
  },
  {
   "cell_type": "markdown",
   "metadata": {},
   "source": [
    "Merge Sort Applications\n",
    "Inversion count problem\n",
    "External sorting\n",
    "E-commerce applications"
   ]
  },
  {
   "cell_type": "code",
   "execution_count": 18,
   "metadata": {},
   "outputs": [],
   "source": [
    "# https://www.programiz.com/dsa/merge-sort"
   ]
  },
  {
   "cell_type": "code",
   "execution_count": null,
   "metadata": {},
   "outputs": [],
   "source": []
  }
 ],
 "metadata": {
  "kernelspec": {
   "display_name": "Python 3 (ipykernel)",
   "language": "python",
   "name": "python3"
  },
  "language_info": {
   "codemirror_mode": {
    "name": "ipython",
    "version": 3
   },
   "file_extension": ".py",
   "mimetype": "text/x-python",
   "name": "python",
   "nbconvert_exporter": "python",
   "pygments_lexer": "ipython3",
   "version": "3.8.10"
  }
 },
 "nbformat": 4,
 "nbformat_minor": 2
}
